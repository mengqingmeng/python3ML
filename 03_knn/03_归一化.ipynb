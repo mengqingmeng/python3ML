{
 "cells": [
  {
   "cell_type": "code",
   "execution_count": 1,
   "metadata": {
    "collapsed": true
   },
   "outputs": [],
   "source": [
    "import numpy as np\n",
    "import matplotlib.pyplot as plt"
   ]
  },
  {
   "cell_type": "code",
   "execution_count": 2,
   "metadata": {
    "collapsed": true
   },
   "outputs": [],
   "source": [
    "x = np.random.randint(0,100,size=100)"
   ]
  },
  {
   "cell_type": "code",
   "execution_count": 3,
   "metadata": {},
   "outputs": [
    {
     "data": {
      "text/plain": [
       "array([47, 15, 28, 55, 23, 72, 80, 87, 26, 99, 55, 35, 60, 95, 44, 32, 49,\n",
       "       27, 74, 34, 74, 45, 42, 94, 75, 69, 11, 62,  4, 90, 23, 98, 76, 94,\n",
       "       83, 52, 90, 16, 90, 99, 43, 44, 22, 33, 92, 93, 35, 48, 30, 16, 86,\n",
       "       61, 57, 44, 71,  6, 14, 54, 33, 64, 86, 83, 22, 14, 86, 21, 59, 72,\n",
       "       42, 20, 46, 84, 40, 65, 28, 90, 27, 29, 50,  4, 68, 96, 53, 30, 30,\n",
       "       30, 39, 36, 21, 17, 88, 78, 68, 52, 76, 10, 18, 64,  8, 61])"
      ]
     },
     "execution_count": 3,
     "metadata": {},
     "output_type": "execute_result"
    }
   ],
   "source": [
    "x"
   ]
  },
  {
   "cell_type": "markdown",
   "metadata": {},
   "source": [
    "### 最值归一化normalization"
   ]
  },
  {
   "cell_type": "code",
   "execution_count": 5,
   "metadata": {},
   "outputs": [],
   "source": [
    "x = (x - np.min(x))/(np.max(x)-np.min(x))"
   ]
  },
  {
   "cell_type": "code",
   "execution_count": 6,
   "metadata": {},
   "outputs": [
    {
     "data": {
      "text/plain": [
       "array([ 0.45263158,  0.11578947,  0.25263158,  0.53684211,  0.2       ,\n",
       "        0.71578947,  0.8       ,  0.87368421,  0.23157895,  1.        ,\n",
       "        0.53684211,  0.32631579,  0.58947368,  0.95789474,  0.42105263,\n",
       "        0.29473684,  0.47368421,  0.24210526,  0.73684211,  0.31578947,\n",
       "        0.73684211,  0.43157895,  0.4       ,  0.94736842,  0.74736842,\n",
       "        0.68421053,  0.07368421,  0.61052632,  0.        ,  0.90526316,\n",
       "        0.2       ,  0.98947368,  0.75789474,  0.94736842,  0.83157895,\n",
       "        0.50526316,  0.90526316,  0.12631579,  0.90526316,  1.        ,\n",
       "        0.41052632,  0.42105263,  0.18947368,  0.30526316,  0.92631579,\n",
       "        0.93684211,  0.32631579,  0.46315789,  0.27368421,  0.12631579,\n",
       "        0.86315789,  0.6       ,  0.55789474,  0.42105263,  0.70526316,\n",
       "        0.02105263,  0.10526316,  0.52631579,  0.30526316,  0.63157895,\n",
       "        0.86315789,  0.83157895,  0.18947368,  0.10526316,  0.86315789,\n",
       "        0.17894737,  0.57894737,  0.71578947,  0.4       ,  0.16842105,\n",
       "        0.44210526,  0.84210526,  0.37894737,  0.64210526,  0.25263158,\n",
       "        0.90526316,  0.24210526,  0.26315789,  0.48421053,  0.        ,\n",
       "        0.67368421,  0.96842105,  0.51578947,  0.27368421,  0.27368421,\n",
       "        0.27368421,  0.36842105,  0.33684211,  0.17894737,  0.13684211,\n",
       "        0.88421053,  0.77894737,  0.67368421,  0.50526316,  0.75789474,\n",
       "        0.06315789,  0.14736842,  0.63157895,  0.04210526,  0.6       ])"
      ]
     },
     "execution_count": 6,
     "metadata": {},
     "output_type": "execute_result"
    }
   ],
   "source": [
    "x"
   ]
  },
  {
   "cell_type": "code",
   "execution_count": 7,
   "metadata": {},
   "outputs": [
    {
     "data": {
      "text/plain": [
       "0.28884599889964274"
      ]
     },
     "execution_count": 7,
     "metadata": {},
     "output_type": "execute_result"
    }
   ],
   "source": [
    "np.std(x)"
   ]
  },
  {
   "cell_type": "code",
   "execution_count": 8,
   "metadata": {},
   "outputs": [
    {
     "data": {
      "text/plain": [
       "0.50326315789473686"
      ]
     },
     "execution_count": 8,
     "metadata": {},
     "output_type": "execute_result"
    }
   ],
   "source": [
    "np.mean(x)"
   ]
  },
  {
   "cell_type": "markdown",
   "metadata": {},
   "source": [
    "### 均值方差归一化 standardization"
   ]
  },
  {
   "cell_type": "code",
   "execution_count": 26,
   "metadata": {
    "collapsed": true
   },
   "outputs": [],
   "source": [
    "X = np.random.randint(0,100,size=(50,2))"
   ]
  },
  {
   "cell_type": "code",
   "execution_count": 27,
   "metadata": {},
   "outputs": [
    {
     "data": {
      "text/plain": [
       "array([[64, 27],\n",
       "       [55, 94],\n",
       "       [78, 54],\n",
       "       [87, 13],\n",
       "       [ 6, 19],\n",
       "       [30, 79],\n",
       "       [44, 65],\n",
       "       [45, 88],\n",
       "       [50,  0],\n",
       "       [88, 39]])"
      ]
     },
     "execution_count": 27,
     "metadata": {},
     "output_type": "execute_result"
    }
   ],
   "source": [
    "X[:10,: ]"
   ]
  },
  {
   "cell_type": "code",
   "execution_count": 28,
   "metadata": {
    "collapsed": true
   },
   "outputs": [],
   "source": [
    "X = np.array(X,np.float)"
   ]
  },
  {
   "cell_type": "code",
   "execution_count": 29,
   "metadata": {},
   "outputs": [
    {
     "data": {
      "text/plain": [
       "array([[ 64.,  27.],\n",
       "       [ 55.,  94.],\n",
       "       [ 78.,  54.],\n",
       "       [ 87.,  13.],\n",
       "       [  6.,  19.],\n",
       "       [ 30.,  79.],\n",
       "       [ 44.,  65.],\n",
       "       [ 45.,  88.],\n",
       "       [ 50.,   0.],\n",
       "       [ 88.,  39.]])"
      ]
     },
     "execution_count": 29,
     "metadata": {},
     "output_type": "execute_result"
    }
   ],
   "source": [
    "X[:10,: ]"
   ]
  },
  {
   "cell_type": "code",
   "execution_count": 30,
   "metadata": {
    "collapsed": true
   },
   "outputs": [],
   "source": [
    "X = (X - np.mean(X))/np.std(X)"
   ]
  },
  {
   "cell_type": "code",
   "execution_count": 32,
   "metadata": {},
   "outputs": [
    {
     "data": {
      "text/plain": [
       "array([[ 0.4577951 , -0.75209195],\n",
       "       [ 0.16349825,  1.43878461],\n",
       "       [ 0.91559021,  0.1307986 ],\n",
       "       [ 1.20988706, -1.20988706],\n",
       "       [-1.43878461, -1.01368916],\n",
       "       [-0.653993  ,  0.94828986],\n",
       "       [-0.1961979 ,  0.49049475],\n",
       "       [-0.16349825,  1.24258671],\n",
       "       [ 0.        , -1.63498251],\n",
       "       [ 1.24258671, -0.35969615]])"
      ]
     },
     "execution_count": 32,
     "metadata": {},
     "output_type": "execute_result"
    }
   ],
   "source": [
    "X[:10,: ]"
   ]
  },
  {
   "cell_type": "code",
   "execution_count": 33,
   "metadata": {},
   "outputs": [
    {
     "data": {
      "text/plain": [
       "<matplotlib.collections.PathCollection at 0x215da0c83c8>"
      ]
     },
     "execution_count": 33,
     "metadata": {},
     "output_type": "execute_result"
    }
   ],
   "source": [
    "plt.scatter(X[:,0],X[:,1])"
   ]
  },
  {
   "cell_type": "code",
   "execution_count": 34,
   "metadata": {},
   "outputs": [
    {
     "data": {
      "image/png": "[encoded data removed]",
      "text/plain": [
       "<matplotlib.figure.Figure at 0x215da9f1908>"
      ]
     },
     "metadata": {},
     "output_type": "display_data"
    }
   ],
   "source": [
    "plt.show()"
   ]
  },
  {
   "cell_type": "code",
   "execution_count": null,
   "metadata": {
    "collapsed": true
   },
   "outputs": [],
   "source": []
  }
 ],
 "metadata": {
  "kernelspec": {
   "display_name": "Python 3",
   "language": "python",
   "name": "python3"
  },
  "language_info": {
   "codemirror_mode": {
    "name": "ipython",
    "version": 3
   },
   "file_extension": ".py",
   "mimetype": "text/x-python",
   "name": "python",
   "nbconvert_exporter": "python",
   "pygments_lexer": "ipython3",
   "version": "3.6.2"
  }
 },
 "nbformat": 4,
 "nbformat_minor": 2
}

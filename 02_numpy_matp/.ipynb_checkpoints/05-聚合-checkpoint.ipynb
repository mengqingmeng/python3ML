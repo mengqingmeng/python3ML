{
 "cells": [
  {
   "cell_type": "code",
   "execution_count": 1,
   "metadata": {
    "collapsed": true
   },
   "outputs": [],
   "source": [
    "import numpy as np"
   ]
  },
  {
   "cell_type": "code",
   "execution_count": 2,
   "metadata": {
    "collapsed": true
   },
   "outputs": [],
   "source": [
    "L = np.random.random(100)"
   ]
  },
  {
   "cell_type": "code",
   "execution_count": 3,
   "metadata": {},
   "outputs": [
    {
     "data": {
      "text/plain": [
       "array([ 0.97164852,  0.33385446,  0.58094427,  0.94559644,  0.5436605 ,\n",
       "        0.88026912,  0.32462475,  0.19661523,  0.89842792,  0.6942275 ,\n",
       "        0.11457596,  0.32286543,  0.87079804,  0.40551914,  0.49819087,\n",
       "        0.10682065,  0.26767033,  0.70039168,  0.55788993,  0.86614087,\n",
       "        0.44877593,  0.78441859,  0.99032371,  0.74833064,  0.39640565,\n",
       "        0.36909559,  0.91704221,  0.53892399,  0.18418577,  0.03087954,\n",
       "        0.67898783,  0.98074681,  0.82630293,  0.72318909,  0.69705216,\n",
       "        0.58723733,  0.64062137,  0.67637234,  0.00921763,  0.48467733,\n",
       "        0.67562836,  0.4308353 ,  0.08229349,  0.46753436,  0.25442644,\n",
       "        0.19968385,  0.16819476,  0.48183517,  0.15458896,  0.97196566,\n",
       "        0.92482789,  0.57183126,  0.80040331,  0.49965591,  0.26422196,\n",
       "        0.87670536,  0.36701288,  0.50759656,  0.13702669,  0.4215465 ,\n",
       "        0.26613191,  0.25751837,  0.60280404,  0.05052367,  0.96966761,\n",
       "        0.09951236,  0.18948425,  0.24108005,  0.89401018,  0.30193056,\n",
       "        0.17862206,  0.34416188,  0.90186158,  0.79762786,  0.65423994,\n",
       "        0.51454404,  0.75655996,  0.08904394,  0.57860479,  0.010608  ,\n",
       "        0.88851471,  0.06490396,  0.06403364,  0.65789632,  0.62283445,\n",
       "        0.66829598,  0.17744035,  0.14441604,  0.00748756,  0.82993658,\n",
       "        0.17522859,  0.42941403,  0.45974916,  0.10895409,  0.81718712,\n",
       "        0.19198956,  0.4087965 ,  0.62174529,  0.58679723,  0.51351   ])"
      ]
     },
     "execution_count": 3,
     "metadata": {},
     "output_type": "execute_result"
    }
   ],
   "source": [
    "L"
   ]
  },
  {
   "cell_type": "code",
   "execution_count": 4,
   "metadata": {
    "collapsed": true
   },
   "outputs": [],
   "source": [
    "#python 自带sum\n",
    "sumL = sum(L)"
   ]
  },
  {
   "cell_type": "code",
   "execution_count": 5,
   "metadata": {},
   "outputs": [
    {
     "data": {
      "text/plain": [
       "49.189000930839775"
      ]
     },
     "execution_count": 5,
     "metadata": {},
     "output_type": "execute_result"
    }
   ],
   "source": [
    "sumL"
   ]
  },
  {
   "cell_type": "code",
   "execution_count": 6,
   "metadata": {
    "collapsed": true
   },
   "outputs": [],
   "source": [
    "#numpy sum\n",
    "sumL = np.sum(L)"
   ]
  },
  {
   "cell_type": "code",
   "execution_count": 7,
   "metadata": {},
   "outputs": [
    {
     "data": {
      "text/plain": [
       "49.189000930839782"
      ]
     },
     "execution_count": 7,
     "metadata": {},
     "output_type": "execute_result"
    }
   ],
   "source": [
    "sumL"
   ]
  },
  {
   "cell_type": "code",
   "execution_count": 8,
   "metadata": {},
   "outputs": [
    {
     "name": "stdout",
     "output_type": "stream",
     "text": [
      "173 ms ± 14.3 ms per loop (mean ± std. dev. of 7 runs, 10 loops each)\n",
      "1.24 ms ± 9.07 µs per loop (mean ± std. dev. of 7 runs, 1000 loops each)\n"
     ]
    }
   ],
   "source": [
    "bigRand = np.random.rand(1000000)\n",
    "%timeit sum(bigRand)\n",
    "%timeit np.sum(bigRand)"
   ]
  },
  {
   "cell_type": "code",
   "execution_count": null,
   "metadata": {
    "collapsed": true
   },
   "outputs": [],
   "source": []
  }
 ],
 "metadata": {
  "kernelspec": {
   "display_name": "Python 3",
   "language": "python",
   "name": "python3"
  },
  "language_info": {
   "codemirror_mode": {
    "name": "ipython",
    "version": 3
   },
   "file_extension": ".py",
   "mimetype": "text/x-python",
   "name": "python",
   "nbconvert_exporter": "python",
   "pygments_lexer": "ipython3",
   "version": "3.6.2"
  }
 },
 "nbformat": 4,
 "nbformat_minor": 2
}
